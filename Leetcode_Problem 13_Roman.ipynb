{
 "cells": [
  {
   "cell_type": "code",
   "execution_count": 1,
   "metadata": {},
   "outputs": [],
   "source": [
    "import numpy as np\n",
    "import string as str\n",
    "import re"
   ]
  },
  {
   "cell_type": "markdown",
   "metadata": {},
   "source": [
    "Symbol       Value\n",
    "I             1\n",
    "V             5\n",
    "X             10\n",
    "L             50\n",
    "C             100\n",
    "D             500\n",
    "M             1000\n",
    "For example, two is written as II in Roman numeral, just two one's added together. Twelve is written as, XII, which is simply X + II. The number twenty seven is written as XXVII, which is XX + V + II.\n",
    "\n",
    "Roman numerals are usually written largest to smallest from left to right. However, the numeral for four is not IIII. Instead, the number four is written as IV. Because the one is before the five we subtract it making four. The same principle applies to the number nine, which is written as IX. There are six instances where subtraction is used:\n",
    "\n",
    "I can be placed before V (5) and X (10) to make 4 and 9. \n",
    "X can be placed before L (50) and C (100) to make 40 and 90. \n",
    "C can be placed before D (500) and M (1000) to make 400 and 900."
   ]
  },
  {
   "cell_type": "code",
   "execution_count": 2,
   "metadata": {},
   "outputs": [],
   "source": [
    "symb_dict = {'I':1, 'V':5,'X':10,'L':50,'C':100,'D':500,'M':1000}"
   ]
  },
  {
   "cell_type": "code",
   "execution_count": 3,
   "metadata": {},
   "outputs": [],
   "source": [
    "def funcn(sample):\n",
    "\n",
    "    runsum = 0\n",
    "    # COding for the exceptions.\n",
    "    x = re.search(\"IV\", sample)\n",
    "    if x is not None:\n",
    "        runsum += 4\n",
    "        sample = re.sub(\"IV\",'', sample)\n",
    "\n",
    "    x = re.search(\"IX\", sample)\n",
    "    if x is not None:\n",
    "        runsum += 9\n",
    "        sample = re.sub(\"IX\", '', sample)\n",
    "\n",
    "    x = re.search(\"XL\", sample)\n",
    "    if x is not None:\n",
    "        runsum += 40\n",
    "        sample = re.sub(\"XL\", '', sample)\n",
    "\n",
    "    x = re.search(\"XC\", sample)\n",
    "    if x is not None:\n",
    "        runsum += 90\n",
    "        sample = re.sub(\"XC\",'',sample)\n",
    "\n",
    "    # CD = 400   CM = 900\n",
    "    x = re.search(\"CD\", sample)\n",
    "    if x is not None:\n",
    "        runsum+= 400\n",
    "        sample = re.sub(\"CD\",'',sample)\n",
    "\n",
    "    x = re.search(\"CM\", sample)\n",
    "    if x is not None:\n",
    "        runsum+= 900\n",
    "        sample = re.sub(\"CM\",'',sample)\n",
    "\n",
    "    # For everything else that is simple substitution with the value in the dictionary, split up the remainder of the\n",
    "    # string into list elements and add the corresponding value.\n",
    "    sample = list(sample)\n",
    "    for i in range(0, len(sample)):\n",
    "        runsum+= symb_dict[sample[i]]\n",
    "        \n",
    "    return runsum"
   ]
  },
  {
   "cell_type": "code",
   "execution_count": 4,
   "metadata": {},
   "outputs": [
    {
     "data": {
      "text/plain": [
       "1994"
      ]
     },
     "execution_count": 4,
     "metadata": {},
     "output_type": "execute_result"
    }
   ],
   "source": [
    "funcn(\"MCMXCIV\")"
   ]
  },
  {
   "cell_type": "code",
   "execution_count": null,
   "metadata": {},
   "outputs": [],
   "source": []
  }
 ],
 "metadata": {
  "kernelspec": {
   "display_name": "Python 3",
   "language": "python",
   "name": "python3"
  },
  "language_info": {
   "codemirror_mode": {
    "name": "ipython",
    "version": 3
   },
   "file_extension": ".py",
   "mimetype": "text/x-python",
   "name": "python",
   "nbconvert_exporter": "python",
   "pygments_lexer": "ipython3",
   "version": "3.7.6"
  }
 },
 "nbformat": 4,
 "nbformat_minor": 4
}
